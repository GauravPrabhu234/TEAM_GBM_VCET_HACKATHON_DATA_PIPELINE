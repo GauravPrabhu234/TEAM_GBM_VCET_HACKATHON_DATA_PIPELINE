{
  "nbformat": 4,
  "nbformat_minor": 0,
  "metadata": {
    "colab": {
      "provenance": [],
      "toc_visible": true
    },
    "kernelspec": {
      "name": "python3",
      "display_name": "Python 3"
    },
    "language_info": {
      "name": "python"
    }
  },
  "cells": [
    {
      "cell_type": "code",
      "execution_count": 1,
      "metadata": {
        "colab": {
          "base_uri": "https://localhost:8080/",
          "height": 540
        },
        "id": "TsMItDy5PLk6",
        "outputId": "8a01aed1-19d4-4a8f-86c4-f206ef626309"
      },
      "outputs": [
        {
          "output_type": "stream",
          "name": "stdout",
          "text": [
            "Generated 100 records.\n",
            "Generated 100 records.\n",
            "Generated 100 records.\n",
            "Generated 100 records.\n",
            "Generated 100 records.\n",
            "Generated 100 records.\n",
            "Generated 100 records.\n",
            "Generated 100 records.\n",
            "Generated 100 records.\n",
            "Generated 100 records.\n",
            "Generated 100 records.\n",
            "Generated 100 records.\n",
            "Generated 100 records.\n",
            "Generated 100 records.\n",
            "Generated 100 records.\n",
            "Generated 100 records.\n",
            "Generated 100 records.\n",
            "Generated 100 records.\n",
            "Generated 100 records.\n",
            "Generated 100 records.\n",
            "Generated 100 records.\n"
          ]
        },
        {
          "output_type": "error",
          "ename": "KeyboardInterrupt",
          "evalue": "",
          "traceback": [
            "\u001b[0;31m---------------------------------------------------------------------------\u001b[0m",
            "\u001b[0;31mKeyboardInterrupt\u001b[0m                         Traceback (most recent call last)",
            "\u001b[0;32m/tmp/ipython-input-844608809.py\u001b[0m in \u001b[0;36m<cell line: 0>\u001b[0;34m()\u001b[0m\n\u001b[1;32m     26\u001b[0m \u001b[0;34m\u001b[0m\u001b[0m\n\u001b[1;32m     27\u001b[0m         \u001b[0mprint\u001b[0m\u001b[0;34m(\u001b[0m\u001b[0;34mf\"Generated {NUM_DEVICES} records.\"\u001b[0m\u001b[0;34m)\u001b[0m\u001b[0;34m\u001b[0m\u001b[0;34m\u001b[0m\u001b[0m\n\u001b[0;32m---> 28\u001b[0;31m         \u001b[0mtime\u001b[0m\u001b[0;34m.\u001b[0m\u001b[0msleep\u001b[0m\u001b[0;34m(\u001b[0m\u001b[0;36m2\u001b[0m\u001b[0;34m)\u001b[0m  \u001b[0;31m# send data every 2 seconds\u001b[0m\u001b[0;34m\u001b[0m\u001b[0;34m\u001b[0m\u001b[0m\n\u001b[0m",
            "\u001b[0;31mKeyboardInterrupt\u001b[0m: "
          ]
        }
      ],
      "source": [
        "import random\n",
        "import time\n",
        "import json\n",
        "\n",
        "# Number of devices to simulate\n",
        "NUM_DEVICES = 100\n",
        "\n",
        "def generate_sensor_data(device_id):\n",
        "    data = {\n",
        "        \"device_id\": device_id,\n",
        "        \"current\": round(random.uniform(5.0, 20.0), 2),       # Amps\n",
        "        \"temperature\": round(random.uniform(20.0, 100.0), 2), # Celsius\n",
        "        \"pressure\": round(random.uniform(1.0, 5.0), 2),       # Bar\n",
        "        \"timestamp\": time.time()\n",
        "    }\n",
        "    return data\n",
        "\n",
        "if __name__ == \"__main__\":\n",
        "    while True:  # keep streaming\n",
        "        all_data = [generate_sensor_data(i) for i in range(1, NUM_DEVICES+1)]\n",
        "\n",
        "        # Save batch to file (JSON lines)\n",
        "        with open(\"iot_data.json\", \"a\") as f:\n",
        "            for entry in all_data:\n",
        "                f.write(json.dumps(entry) + \"\\n\")\n",
        "\n",
        "        print(f\"Generated {NUM_DEVICES} records.\")\n",
        "        time.sleep(2)  # send data every 2 seconds\n"
      ]
    },
    {
      "cell_type": "code",
      "source": [
        "import random\n",
        "import time\n",
        "import json\n",
        "import pandas as pd\n",
        "\n",
        "# Number of devices & records\n",
        "NUM_DEVICES = 100\n",
        "NUM_RECORDS = 1000  # total \"time steps\" to simulate\n",
        "\n",
        "def generate_sensor_data(device_id):\n",
        "    # Normal ranges\n",
        "    current = round(random.uniform(5.0, 20.0), 2)       # Amps\n",
        "    temperature = round(random.uniform(20.0, 80.0), 2)  # °C\n",
        "    pressure = round(random.uniform(1.0, 3.0), 2)       # Bar\n",
        "\n",
        "    # --- Inject anomalies with small probability ---\n",
        "    anomaly_flag = \"normal\"\n",
        "    if random.random() < 0.02:  # ~2% chance of anomaly\n",
        "        anomaly_type = random.choice([\"overcurrent\", \"overheat\", \"overpressure\"])\n",
        "        anomaly_flag = anomaly_type\n",
        "        if anomaly_type == \"overcurrent\":\n",
        "            current = round(random.uniform(25.0, 40.0), 2)\n",
        "        elif anomaly_type == \"overheat\":\n",
        "            temperature = round(random.uniform(90.0, 120.0), 2)\n",
        "        elif anomaly_type == \"overpressure\":\n",
        "            pressure = round(random.uniform(4.0, 6.0), 2)\n",
        "\n",
        "    return {\n",
        "        \"device_id\": device_id,\n",
        "        \"current\": current,\n",
        "        \"temperature\": temperature,\n",
        "        \"pressure\": pressure,\n",
        "        \"timestamp\": time.time(),\n",
        "        \"status\": anomaly_flag\n",
        "    }\n",
        "\n",
        "# --- Generate dataset ---\n",
        "data = []\n",
        "for _ in range(NUM_RECORDS):\n",
        "    for i in range(1, NUM_DEVICES+1):\n",
        "        data.append(generate_sensor_data(i))\n",
        "\n",
        "# Save to JSON file\n",
        "with open(\"iot_data.json\", \"w\") as f:\n",
        "    for entry in data:\n",
        "        f.write(json.dumps(entry) + \"\\n\")\n",
        "\n",
        "print(f\"✅ Generated {len(data)} records for {NUM_DEVICES} devices.\")\n",
        "\n",
        "# --- Overview with Pandas ---\n",
        "df = pd.DataFrame(data)\n",
        "print(\"\\n📌 Sample Records:\")\n",
        "print(df.head())\n",
        "\n",
        "print(\"\\n📊 Dataset Shape:\", df.shape)\n",
        "\n",
        "print(\"\\n📈 Summary Statistics:\")\n",
        "print(df.describe())\n",
        "\n",
        "print(\"\\n🚨 Anomaly Counts:\")\n",
        "print(df['status'].value_counts())\n"
      ],
      "metadata": {
        "colab": {
          "base_uri": "https://localhost:8080/"
        },
        "id": "IgGZibu5Tdjv",
        "outputId": "9c1cf9ff-a3a6-4c31-bbca-e15c21e84c37"
      },
      "execution_count": 3,
      "outputs": [
        {
          "output_type": "stream",
          "name": "stdout",
          "text": [
            "✅ Generated 100000 records for 100 devices.\n",
            "\n",
            "📌 Sample Records:\n",
            "   device_id  current  temperature  pressure     timestamp  status\n",
            "0          1    15.69        57.42      2.95  1.758862e+09  normal\n",
            "1          2     6.94        68.12      2.46  1.758862e+09  normal\n",
            "2          3    18.72        22.49      1.26  1.758862e+09  normal\n",
            "3          4     6.83        45.05      2.41  1.758862e+09  normal\n",
            "4          5     7.02        34.90      2.60  1.758862e+09  normal\n",
            "\n",
            "📊 Dataset Shape: (100000, 6)\n",
            "\n",
            "📈 Summary Statistics:\n",
            "           device_id        current    temperature       pressure  \\\n",
            "count  100000.000000  100000.000000  100000.000000  100000.000000   \n",
            "mean       50.500000      12.647391      50.408430       2.017334   \n",
            "std        28.866214       4.633848      17.841286       0.625898   \n",
            "min         1.000000       5.000000      20.000000       1.000000   \n",
            "25%        25.750000       8.810000      35.130000       1.500000   \n",
            "50%        50.500000      12.550000      50.200000       2.000000   \n",
            "75%        75.250000      16.340000      65.410000       2.500000   \n",
            "max       100.000000      39.980000     119.980000       6.000000   \n",
            "\n",
            "          timestamp  \n",
            "count  1.000000e+05  \n",
            "mean   1.758862e+09  \n",
            "std    1.867139e-01  \n",
            "min    1.758862e+09  \n",
            "25%    1.758862e+09  \n",
            "50%    1.758862e+09  \n",
            "75%    1.758862e+09  \n",
            "max    1.758862e+09  \n",
            "\n",
            "🚨 Anomaly Counts:\n",
            "status\n",
            "normal          97974\n",
            "overcurrent       691\n",
            "overheat          668\n",
            "overpressure      667\n",
            "Name: count, dtype: int64\n"
          ]
        }
      ]
    },
    {
      "cell_type": "code",
      "source": [
        "from google.colab import files\n",
        "files.download(\"iot_data.json\")\n"
      ],
      "metadata": {
        "colab": {
          "base_uri": "https://localhost:8080/",
          "height": 17
        },
        "id": "iV1g7U-8T1-s",
        "outputId": "cdce674e-0038-4e50-f174-a08c34c22a0a"
      },
      "execution_count": 4,
      "outputs": [
        {
          "output_type": "display_data",
          "data": {
            "text/plain": [
              "<IPython.core.display.Javascript object>"
            ],
            "application/javascript": [
              "\n",
              "    async function download(id, filename, size) {\n",
              "      if (!google.colab.kernel.accessAllowed) {\n",
              "        return;\n",
              "      }\n",
              "      const div = document.createElement('div');\n",
              "      const label = document.createElement('label');\n",
              "      label.textContent = `Downloading \"${filename}\": `;\n",
              "      div.appendChild(label);\n",
              "      const progress = document.createElement('progress');\n",
              "      progress.max = size;\n",
              "      div.appendChild(progress);\n",
              "      document.body.appendChild(div);\n",
              "\n",
              "      const buffers = [];\n",
              "      let downloaded = 0;\n",
              "\n",
              "      const channel = await google.colab.kernel.comms.open(id);\n",
              "      // Send a message to notify the kernel that we're ready.\n",
              "      channel.send({})\n",
              "\n",
              "      for await (const message of channel.messages) {\n",
              "        // Send a message to notify the kernel that we're ready.\n",
              "        channel.send({})\n",
              "        if (message.buffers) {\n",
              "          for (const buffer of message.buffers) {\n",
              "            buffers.push(buffer);\n",
              "            downloaded += buffer.byteLength;\n",
              "            progress.value = downloaded;\n",
              "          }\n",
              "        }\n",
              "      }\n",
              "      const blob = new Blob(buffers, {type: 'application/binary'});\n",
              "      const a = document.createElement('a');\n",
              "      a.href = window.URL.createObjectURL(blob);\n",
              "      a.download = filename;\n",
              "      div.appendChild(a);\n",
              "      a.click();\n",
              "      div.remove();\n",
              "    }\n",
              "  "
            ]
          },
          "metadata": {}
        },
        {
          "output_type": "display_data",
          "data": {
            "text/plain": [
              "<IPython.core.display.Javascript object>"
            ],
            "application/javascript": [
              "download(\"download_e8db5d75-67d3-4764-b813-63cba4c41508\", \"iot_data.json\", 12812032)"
            ]
          },
          "metadata": {}
        }
      ]
    },
    {
      "cell_type": "code",
      "source": [],
      "metadata": {
        "id": "GEmDawjmWWY1"
      },
      "execution_count": null,
      "outputs": []
    }
  ]
}